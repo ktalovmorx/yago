{
 "cells": [
  {
   "cell_type": "markdown",
   "id": "2ea96172-638b-402f-9576-79b7b73efac0",
   "metadata": {},
   "source": [
    "# Regresión lineal\n",
    "\n",
    " Dada una base de datos bidimensional  de $N$ datos\n",
    "  $(X,Y) = \\{ (x_i,y_i) \\ |\\ x_{i}, y_{i}\\in\\mathbb{R},\\ 0\\leq i< N \\}$,\n",
    "  la recta de regresión de Y sobre X es igual a\n",
    "  $$Y= a X + b$$ donde \n",
    "    $$a=\n",
    "   \\frac{\\sigma_{xy}}{\\sigma_{xx}}=\\frac{ \\sum_{i=0}^{N-1} (x_i\n",
    "-\\overline{X})(y_i -\\overline{Y})  } { \\sum_{i=0}^{N-1} (x_i -\\overline{X})^2}$$\n",
    "\n",
    "  $$b= \\overline{Y} -a \\overline{X} $$\n",
    "\n",
    "Siendo $\\overline{X}$ y  $\\overline{Y}$ las medias de los valores de $X$ y $Y$ respectivamente.\n",
    "\n",
    "Los datos están en un fichero y no se pueden cargar en listas. Se trata de calcular los valores de $a$ y $b$ leyendo únicamente el fichero una vez. Para ello es necesario tener en cuenta lo siguiente:\n",
    "\n",
    "$$\n",
    "        \\begin{array}{ll}\n",
    "          \\sigma_{xy}&=\\sum_{i=0}^{N-1} (x_i-\\overline{X})(y_i -\\overline{Y}) =\n",
    "          \\sum_{i=0}^{N-1} x_iy_{i}-y_{i}\\overline{X} -\n",
    "          x_{i}\\overline{Y} + \\overline{X}\\,\\overline{Y} =\\\\\n",
    "          & =\\sum_{i=0}^{N-1} x_i y_{i} - \\overline{X}\\sum_{i=0}^{N-1}\n",
    "          y_i - \\overline{Y}\\sum_{i=0}^{N-1} x_i +\n",
    "          N\\overline{Y}\\,\\overline{X}\n",
    "        \\end{array}\n",
    "$$\n",
    "$$\n",
    "        \\begin{array}{ll}\n",
    "          \\sigma_{xx}&=\\sum_{i=0}^{N-1} (x_i-\\overline{X})(x_i -\\overline{X})=\\\\\n",
    "          & =\n",
    "          \\sum_{i=0}^{N-1} x_i x_{i} - \\overline{X}\\sum_{i=0}^{N-1}\n",
    "          x_i - \\overline{X}\\sum_{i=0}^{N-1} x_i +\n",
    "          N\\overline{X}\\,\\overline{X}\n",
    "          = \\\\\n",
    "          &=\\sum_{i=0}^{N-1} x_i x_{i} - N\\overline{X}\\,\\overline{X} -\n",
    "          N\\overline{X}\\,\\overline{X} + N\\overline{X}\\,\\overline{X}\n",
    "          =\n",
    "          \\sum_{i=0}^{N-1} x_i^{2} - N\\overline{X}^{2}\n",
    "        \\end{array}\n",
    "$$\n",
    "\n",
    "Haz un programa llamado `linear_regression.py` que calcule la regresión lineal de un fichero.\n",
    "- Realiza una función `gen_test_file(filename: str) -> None` que\n",
    "  genere un fichero aleatorio en 2 columnas de forma que la la primera columna tenga un número real aleatorio entre 1 y 100 y la segunda columna sea el doble más uno (si $x$ es el primero, el segundo es $2x + 1$).\n",
    "- Realiza una función `linear_regression(filename: str) -> tuple[float, float]` que calcule los valores $a$ y $b$ indicados, por ese orden. Si calculo la regresión lineal con el fichero generado con la función `gen_test_file`, los valores de $a$ y $b$ deben ser cercanos a $2$ y $1$ respectivamente."
   ]
  },
  {
   "cell_type": "code",
   "execution_count": 1,
   "id": "314df539-5ba6-42dd-83f8-16a1eab0b4fd",
   "metadata": {},
   "outputs": [
    {
     "ename": "NameError",
     "evalue": "name 'linear_regression' is not defined",
     "output_type": "error",
     "traceback": [
      "\u001b[0;31m---------------------------------------------------------------------------\u001b[0m",
      "\u001b[0;31mNameError\u001b[0m                                 Traceback (most recent call last)",
      "Cell \u001b[0;32mIn[1], line 2\u001b[0m\n\u001b[1;32m      1\u001b[0m \u001b[38;5;28;01mimport\u001b[39;00m \u001b[38;5;21;01mtesting\u001b[39;00m\n\u001b[0;32m----> 2\u001b[0m \u001b[43mtesting\u001b[49m\u001b[38;5;241;43m.\u001b[39;49m\u001b[43mtest_regression\u001b[49m\u001b[43m(\u001b[49m\u001b[43m)\u001b[49m\n",
      "File \u001b[0;32m~/docencia/progII_24/nbgrader/source/hoja_03/testing.py:142\u001b[0m, in \u001b[0;36mtest_regression\u001b[0;34m()\u001b[0m\n\u001b[1;32m    140\u001b[0m \u001b[38;5;28;01mdef\u001b[39;00m \u001b[38;5;21mtest_regression\u001b[39m():\n\u001b[1;32m    141\u001b[0m     filename \u001b[38;5;241m=\u001b[39m \u001b[38;5;124m'\u001b[39m\u001b[38;5;124mtest_regression\u001b[39m\u001b[38;5;124m'\u001b[39m\n\u001b[0;32m--> 142\u001b[0m     \u001b[43mlinear_regression\u001b[49m\u001b[38;5;241m.\u001b[39mgen_test_file(filename)\n\u001b[1;32m    143\u001b[0m     a, b \u001b[38;5;241m=\u001b[39m linear_regression\u001b[38;5;241m.\u001b[39mlinear_regression(filename)\n\u001b[1;32m    144\u001b[0m     \u001b[38;5;28mprint\u001b[39m(a, b)\n",
      "\u001b[0;31mNameError\u001b[0m: name 'linear_regression' is not defined"
     ]
    }
   ],
   "source": [
    "import testing\n",
    "testing.test_regression()"
   ]
  },
  {
   "cell_type": "code",
   "execution_count": null,
   "id": "a3a790b4-398e-4c59-9e36-37a6afe5646c",
   "metadata": {},
   "outputs": [],
   "source": []
  }
 ],
 "metadata": {
  "kernelspec": {
   "display_name": "Python 3 (ipykernel)",
   "language": "python",
   "name": "python3"
  },
  "language_info": {
   "codemirror_mode": {
    "name": "ipython",
    "version": 3
   },
   "file_extension": ".py",
   "mimetype": "text/x-python",
   "name": "python",
   "nbconvert_exporter": "python",
   "pygments_lexer": "ipython3",
   "version": "3.11.7"
  }
 },
 "nbformat": 4,
 "nbformat_minor": 5
}
