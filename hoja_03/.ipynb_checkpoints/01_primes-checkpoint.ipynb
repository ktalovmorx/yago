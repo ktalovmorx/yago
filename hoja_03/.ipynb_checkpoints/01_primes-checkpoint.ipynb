{
 "cells": [
  {
   "cell_type": "markdown",
   "id": "43afa43c-d367-4040-af6b-c573006133fa",
   "metadata": {},
   "source": [
    "En este ejercicio vamos a hacer ficheros incrementales de números primos. Vas a realizar un programa que se llame `primes.py`\n",
    "En primer lugar, debes a hacer una función \n",
    "`is_prime(num: int, primlst: list[int] -> bool`, que dado un número `num` y una lista de números primos `primelst` que contiene todos los primos menores que `num`. Nos diga si el número es primo o no. La función solo debe hacer las divisiones desde los números de la lista.\n",
    "\n",
    "Ejemplos\n",
    "-------\n",
    "<pre>\n",
    ">>> is_prime([2, 3, 5], 6)\n",
    "False\n",
    ">>> is_prime([2, 3, 5], 7)\n",
    "True\n",
    ">>> is_prime([2, 3, 5, 7, 11, 13], 15)\n",
    "False\n",
    ">>> is_prime([2, 3, 5, 7, 11, 13], 17)\n",
    "True\n",
    "</pre>"
   ]
  },
  {
   "cell_type": "code",
   "execution_count": 1,
   "id": "bd19db80-5b02-4bfe-95cc-2565040b09ce",
   "metadata": {},
   "outputs": [],
   "source": [
    "import testing"
   ]
  },
  {
   "cell_type": "code",
   "execution_count": 2,
   "id": "c3270190-373d-4691-90ec-bffe589310e5",
   "metadata": {
    "nbgrader": {
     "grade": true,
     "grade_id": "cell-30567cf6cbe3c5bc",
     "locked": true,
     "points": 1,
     "schema_version": 3,
     "solution": false,
     "task": false
    }
   },
   "outputs": [
    {
     "name": "stdout",
     "output_type": "stream",
     "text": [
      "\"(6, [2, 3, 5])\", \"False\"....OK.\n",
      "\"(7, [2, 3, 5])\", \"True\"....OK.\n",
      "\"(9, [2, 3, 5, 7])\", \"False\"....OK.\n",
      "\"(15, [2, 3, 5, 7, 11, 13])\", \"False\"....OK.\n",
      "\"(17, [2, 3, 5, 7, 11, 13])\", \"True\"....OK.\n"
     ]
    }
   ],
   "source": [
    "testing.test_isprime()"
   ]
  },
  {
   "cell_type": "markdown",
   "id": "6f881582-dc4c-43bd-bc24-77103b3002e4",
   "metadata": {},
   "source": [
    "Haz una función `next_prime(primelst: list[int]) -> None:` donde `primelst` es la lista de los primeros primos, le añada el siguiente primo.\n",
    "Si la lista es vacía, debe añadir el primer primo: el 2.\n",
    "\n",
    "Ejemplo\n",
    "-------\n",
    "<pre>\n",
    "    lst = []\n",
    "    next_prime(lst)\n",
    "    lst ----> [2]\n",
    "\n",
    "    next_prime(lst) \n",
    "    lst ----> [2, 3]\n",
    "\n",
    "    lst = [2, 3, 5, 7]\n",
    "    next_prime(lst)\n",
    "    lst -----> [2, 3, 5, 7, 11]\n",
    "</pre>"
   ]
  },
  {
   "cell_type": "code",
   "execution_count": 3,
   "id": "18e23f24-10c8-4d27-9ef2-8dc901d8974d",
   "metadata": {
    "nbgrader": {
     "grade": true,
     "grade_id": "cell-24a79e745798a687",
     "locked": true,
     "points": 1,
     "schema_version": 3,
     "solution": false,
     "task": false
    }
   },
   "outputs": [
    {
     "name": "stdout",
     "output_type": "stream",
     "text": [
      "\"([],)\", \"([2],)\"....OK.\n",
      "\"([2, 3, 5],)\", \"([2, 3, 5, 7],)\"....OK.\n",
      "\"([2, 3, 5, 7],)\", \"([2, 3, 5, 7, 11],)\"....OK.\n",
      "\"([2, 3, 5, 7, 11, 13],)\", \"([2, 3, 5, 7, 11, 13, 17],)\"....OK.\n"
     ]
    }
   ],
   "source": [
    "testing.test_next_prime()"
   ]
  },
  {
   "cell_type": "markdown",
   "id": "88fcc95c-d92d-4298-9ba7-2ea6fa1555ba",
   "metadata": {},
   "source": [
    "Ahora realiza una función `read_primes(filename: str) -> list[int]` que\n",
    "dado un fichero que contiene los primeros números primos (uno en cada línea),\n",
    "devuelva la lista con dichos números."
   ]
  },
  {
   "cell_type": "code",
   "execution_count": 4,
   "id": "a5d8c548-2f64-4fb2-8ea8-452b4ae6b5de",
   "metadata": {
    "nbgrader": {
     "grade": true,
     "grade_id": "cell-b87ecfc25ccc8ca7",
     "locked": true,
     "points": 1,
     "schema_version": 3,
     "solution": false,
     "task": false
    }
   },
   "outputs": [
    {
     "name": "stdout",
     "output_type": "stream",
     "text": [
      "\"('prime_2.txt',)\", \"[2, 3]\"....OK.\n",
      "\"('prime_5.txt',)\", \"[2, 3, 5, 7, 11]\"....OK.\n",
      "\"('prime_vacio.txt',)\", \"[]\"....OK.\n"
     ]
    }
   ],
   "source": [
    "testing.test_read_primes()"
   ]
  },
  {
   "cell_type": "markdown",
   "id": "250853a0-b404-4863-a002-4ce2bb64863e",
   "metadata": {},
   "source": [
    "Haz una función `add_primes(filename: str, nprimes: int) -> None:` que dado un fichero conteniendo números primos, le añada `nprimes` nuevos."
   ]
  },
  {
   "cell_type": "code",
   "execution_count": 5,
   "id": "cea6240e-6e5f-4c51-b7bf-335ac4aa3ac3",
   "metadata": {
    "nbgrader": {
     "grade": true,
     "grade_id": "cell-b413691bd73c8ab0",
     "locked": true,
     "points": 1,
     "schema_version": 3,
     "solution": false,
     "task": false
    }
   },
   "outputs": [
    {
     "name": "stdout",
     "output_type": "stream",
     "text": [
      "\"('prime_2.txt', 3)\", \"[2, 3, 5, 7, 11]\"....OK.\n",
      "\"('prime_5.txt', 4)\", \"[2, 3, 5, 7, 11, 13, 17, 19, 23]\"....OK.\n",
      "\"('prime_vacio.txt', 3)\", \"[2, 3, 5]\"....OK.\n"
     ]
    }
   ],
   "source": [
    "testing.test_add_primes()"
   ]
  },
  {
   "cell_type": "markdown",
   "id": "cbdb0ac1-8062-4c99-abfb-81feb876952d",
   "metadata": {},
   "source": [
    "Finalmente, haz un programa que funcione en el terminal. Añade al final del programa lo siguiente"
   ]
  },
  {
   "cell_type": "code",
   "execution_count": 4,
   "id": "fa18bb13-7a08-4530-9646-7f86470bab21",
   "metadata": {},
   "outputs": [
    {
     "ename": "NameError",
     "evalue": "name 'sys' is not defined",
     "output_type": "error",
     "traceback": [
      "\u001b[0;31m---------------------------------------------------------------------------\u001b[0m",
      "\u001b[0;31mNameError\u001b[0m                                 Traceback (most recent call last)",
      "Cell \u001b[0;32mIn[4], line 2\u001b[0m\n\u001b[1;32m      1\u001b[0m \u001b[38;5;28;01mif\u001b[39;00m \u001b[38;5;18m__name__\u001b[39m \u001b[38;5;241m==\u001b[39m \u001b[38;5;124m\"\u001b[39m\u001b[38;5;124m__main__\u001b[39m\u001b[38;5;124m\"\u001b[39m:\n\u001b[0;32m----> 2\u001b[0m     \u001b[38;5;28;01mif\u001b[39;00m \u001b[38;5;28mlen\u001b[39m(\u001b[43msys\u001b[49m\u001b[38;5;241m.\u001b[39margv) \u001b[38;5;241m<\u001b[39m \u001b[38;5;241m3\u001b[39m:\n\u001b[1;32m      3\u001b[0m         \u001b[38;5;28mprint\u001b[39m(\u001b[38;5;124mf\u001b[39m\u001b[38;5;124m'\u001b[39m\u001b[38;5;124mUsage: \u001b[39m\u001b[38;5;132;01m{\u001b[39;00msys\u001b[38;5;241m.\u001b[39margv[\u001b[38;5;241m0\u001b[39m]\u001b[38;5;132;01m}\u001b[39;00m\u001b[38;5;124m filename nprimes\u001b[39m\u001b[38;5;124m'\u001b[39m)\n\u001b[1;32m      4\u001b[0m         sys\u001b[38;5;241m.\u001b[39mexit(\u001b[38;5;241m2\u001b[39m)\n",
      "\u001b[0;31mNameError\u001b[0m: name 'sys' is not defined"
     ]
    }
   ],
   "source": [
    "if __name__ == \"__main__\":\n",
    "    if len(sys.argv) < 3:\n",
    "        print(f'Usage: {sys.argv[0]} filename nprimes')\n",
    "        sys.exit(2)\n",
    "    print(len(sys.argv))\n",
    "    filename = sys.argv[1]\n",
    "    nprimes = int(sys.argv[2])\n",
    "    add_primes(filename, nprimes)"
   ]
  },
  {
   "cell_type": "code",
   "execution_count": null,
   "id": "984ace38-ae1e-4f4e-9f88-6dc390052125",
   "metadata": {},
   "outputs": [],
   "source": []
  }
 ],
 "metadata": {
  "kernelspec": {
   "display_name": "Python 3 (ipykernel)",
   "language": "python",
   "name": "python3"
  },
  "language_info": {
   "codemirror_mode": {
    "name": "ipython",
    "version": 3
   },
   "file_extension": ".py",
   "mimetype": "text/x-python",
   "name": "python",
   "nbconvert_exporter": "python",
   "pygments_lexer": "ipython3",
   "version": "3.11.5"
  }
 },
 "nbformat": 4,
 "nbformat_minor": 5
}
