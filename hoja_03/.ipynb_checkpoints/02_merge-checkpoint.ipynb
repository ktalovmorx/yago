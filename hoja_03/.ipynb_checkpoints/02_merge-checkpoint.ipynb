{
 "cells": [
  {
   "cell_type": "markdown",
   "id": "239dd631-d9e1-47bd-bdb4-93ab8e9cf9f2",
   "metadata": {},
   "source": [
    "Realiza una función `merge(fln1: str, fln2: str, res:str) -> None` que tome dos ficheros con números ordenados `fln1` y `fln2` y los almacene en el fichero `res`. No se pueden leer los ficheros en listas."
   ]
  },
  {
   "cell_type": "code",
   "execution_count": 1,
   "id": "c2501529-33a3-43a5-96c6-653df18c80fd",
   "metadata": {
    "nbgrader": {
     "grade": true,
     "grade_id": "cell-1317c010664f7808",
     "locked": true,
     "points": 1,
     "schema_version": 3,
     "solution": false,
     "task": false
    }
   },
   "outputs": [
    {
     "name": "stdout",
     "output_type": "stream",
     "text": [
      "\"('f1.txt', 'f2.txt')\", \"True\"....OK.\n"
     ]
    }
   ],
   "source": [
    "import testing\n",
    "testing.test_merge_files()"
   ]
  }
 ],
 "metadata": {
  "kernelspec": {
   "display_name": "Python 3 (ipykernel)",
   "language": "python",
   "name": "python3"
  },
  "language_info": {
   "codemirror_mode": {
    "name": "ipython",
    "version": 3
   },
   "file_extension": ".py",
   "mimetype": "text/x-python",
   "name": "python",
   "nbconvert_exporter": "python",
   "pygments_lexer": "ipython3",
   "version": "3.11.5"
  }
 },
 "nbformat": 4,
 "nbformat_minor": 5
}
